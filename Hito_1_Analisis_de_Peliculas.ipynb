{
  "cells": [
    {
      "cell_type": "markdown",
      "metadata": {
        "id": "mNAi3S-WaOVu"
      },
      "source": [
        "# Hito 1: Análisis de Películas\n",
        "Integrantes: Nicolás Escobar, Monserrat Montero, Clemente Grass, Danny González, Sebastián González"
      ]
    },
    {
      "cell_type": "markdown",
      "metadata": {
        "id": "59_cB8F5aT8y"
      },
      "source": [
        "## Introducción\n"
      ]
    },
    {
      "cell_type": "markdown",
      "metadata": {
        "id": "WU1X1GCRaXB3"
      },
      "source": [
        "## Exploración de Datos"
      ]
    },
    {
      "cell_type": "markdown",
      "metadata": {
        "id": "TiDmucTlac1u"
      },
      "source": [
        "## Preguntas y problemas"
      ]
    },
    {
      "cell_type": "markdown",
      "metadata": {
        "id": "Bvn_4hF0agc1"
      },
      "source": []
    }
  ],
  "metadata": {
    "colab": {
      "provenance": []
    },
    "kernelspec": {
      "display_name": "Python 3",
      "name": "python3"
    },
    "language_info": {
      "name": "python",
      "version": "3.11.8"
    }
  },
  "nbformat": 4,
  "nbformat_minor": 0
}
