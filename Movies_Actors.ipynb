{
 "cells": [
  {
   "cell_type": "code",
   "execution_count": null,
   "metadata": {},
   "outputs": [],
   "source": [
    "import pandas as pd\n",
    "import matplotlib.pyplot as plt"
   ]
  },
  {
   "cell_type": "code",
   "execution_count": null,
   "metadata": {},
   "outputs": [],
   "source": [
    "movies = pd.read_csv('movies.csv')\n",
    "actors = pd.read_csv('actors.csv')"
   ]
  },
  {
   "cell_type": "markdown",
   "metadata": {},
   "source": [
    "#### Promedio del ranking de las peliculas en las que ha participado cada actor."
   ]
  },
  {
   "cell_type": "code",
   "execution_count": null,
   "metadata": {},
   "outputs": [],
   "source": [
    "movies_actors = pd.merge(movies, actors, on='id', how='inner',suffixes=('_m', '_a'))\n",
    "movies_actors_filtered = movies_actors.dropna(subset=['rating'])\n",
    "\n",
    "relacion_actor_promedio_ranking = movies_actors_filtered.groupby('name_a').agg({'rating': 'mean', 'id': 'count'})\n",
    "relacion_actor_promedio_ranking = relacion_actor_promedio_ranking.rename(columns={'id': 'cantidad_peliculas'})\n",
    "#relacion_actor_promedio_ranking.describe()\n"
   ]
  },
  {
   "cell_type": "code",
   "execution_count": null,
   "metadata": {},
   "outputs": [],
   "source": [
    "relacion_actor_promedio_ranking = relacion_actor_promedio_ranking.sort_values(by='rating',ascending=False)\n",
    "#print(relacion_actor_promedio_ranking)\n",
    "#Length: 1513886\n",
    "#541814\n"
   ]
  },
  {
   "cell_type": "code",
   "execution_count": null,
   "metadata": {},
   "outputs": [],
   "source": [
    "top_30_actores = relacion_actor_promedio_ranking.head(30)\n",
    "#print(top_30_actores)"
   ]
  },
  {
   "cell_type": "code",
   "execution_count": null,
   "metadata": {},
   "outputs": [],
   "source": [
    "# Suponiendo que tienes la tabla relacion_actorT_promedio_ranking_peliculasmasque2\n",
    "# relacion_actorT_promedio_ranking_peliculasmasque2 es el DataFrame que contiene las columnas name_z, rating y cantidad_peliculas\n",
    "\n",
    "# Graficar el diagrama de dispersión\n",
    "plt.figure(figsize=(10, 6))\n",
    "plt.scatter(relacion_actor_promedio_ranking['cantidad_peliculas'], relacion_actor_promedio_ranking['rating'], alpha=0.5)\n",
    "plt.title('Diagrama de Dispersión: Rating vs Cantidad de Películas')\n",
    "plt.xlabel('Cantidad de Películas en las que Aparece Cada Actor')\n",
    "plt.ylabel('Rating Promedio')\n",
    "plt.grid(True)\n",
    "plt.show()"
   ]
  },
  {
   "cell_type": "markdown",
   "metadata": {},
   "source": [
    "El tops de actores están dominados por actores antiguos y japoneses. Pensamos que puede haber problemas tomando en cuenta \n",
    "que hay actores que pudieron haber en tan solo una pelicula que fue bien, o que los años en los que actuaba el actor. Estos dos \n",
    "parametros podrían generar outliers."
   ]
  },
  {
   "cell_type": "code",
   "execution_count": null,
   "metadata": {},
   "outputs": [],
   "source": [
    "relacion_actor_promedio_ranking_truncado = relacion_actor_promedio_ranking[relacion_actor_promedio_ranking['cantidad_peliculas']>=2]\n",
    "#relacion_actor_promedio_ranking_truncado.describe()"
   ]
  },
  {
   "cell_type": "code",
   "execution_count": null,
   "metadata": {},
   "outputs": [],
   "source": [
    "#print(relacion_actor_promedio_ranking_truncado)"
   ]
  },
  {
   "cell_type": "markdown",
   "metadata": {},
   "source": [
    "#### Filtro de peliculas: A partir del año 2000."
   ]
  },
  {
   "cell_type": "code",
   "execution_count": null,
   "metadata": {},
   "outputs": [],
   "source": [
    "movies_2000 = movies[movies['date'] >= 2000]\n",
    "#518.860 peliculas creadas a partir del 2000\n",
    "#print(movies_2000.shape)"
   ]
  },
  {
   "cell_type": "code",
   "execution_count": null,
   "metadata": {},
   "outputs": [],
   "source": [
    "movies_actorsT = pd.merge(movies_2000, actors, on='id', how='inner',suffixes=('_m', '_a'))\n",
    "movies_actorsT_filtered = movies_actorsT.dropna(subset=['rating'])\n",
    "\n",
    "relacion_actorT_promedio_ranking = movies_actorsT_filtered.groupby('name_a').agg({'rating': 'mean', 'id': 'count'})\n",
    "relacion_actorT_promedio_ranking = relacion_actorT_promedio_ranking.rename(columns={'id': 'cantidad_peliculas'})\n"
   ]
  },
  {
   "cell_type": "code",
   "execution_count": null,
   "metadata": {},
   "outputs": [],
   "source": [
    "relacion_actorT_promedio_ranking = relacion_actorT_promedio_ranking.sort_values(by='rating',ascending=False)\n",
    "\n",
    "#print(relacion_actorT_promedio_ranking)\n",
    "#Length: 1513886\n",
    "top_30_actoresT = relacion_actorT_promedio_ranking.head(30)\n",
    "\n",
    "#print(top_30_actores)\n",
    "#relacion_actorT_promedio_ranking.describe()"
   ]
  },
  {
   "cell_type": "code",
   "execution_count": null,
   "metadata": {},
   "outputs": [],
   "source": [
    "# Graficar el diagrama de dispersión\n",
    "plt.figure(figsize=(10, 6))\n",
    "plt.scatter(relacion_actorT_promedio_ranking['cantidad_peliculas'], relacion_actorT_promedio_ranking['rating'], alpha=0.5)\n",
    "plt.title('Diagrama de Dispersión: Fecha >= 2000')\n",
    "plt.xlabel('Cantidad de Películas en las que Aparece Cada Actor')\n",
    "plt.ylabel('Rating Promedio')\n",
    "plt.grid(True)\n",
    "plt.show()"
   ]
  },
  {
   "cell_type": "code",
   "execution_count": null,
   "metadata": {},
   "outputs": [],
   "source": [
    "relacion_actorT_promedio_ranking_peliculasmasque2 = relacion_actorT_promedio_ranking[relacion_actorT_promedio_ranking['cantidad_peliculas']>=2]\n",
    "#print(relacion_actorT_promedio_ranking_peliculasmasque2)\n",
    "#relacion_actorT_promedio_ranking_peliculasmasque2.describe()"
   ]
  },
  {
   "cell_type": "code",
   "execution_count": null,
   "metadata": {},
   "outputs": [],
   "source": [
    "actor_moviesT_ord = relacion_actorT_promedio_ranking_peliculasmasque2.sort_values(by=['cantidad_peliculas', 'rating'], ascending=False)\n",
    "#print(actor_moviesT_ord.head(30))"
   ]
  },
  {
   "cell_type": "code",
   "execution_count": null,
   "metadata": {},
   "outputs": [],
   "source": [
    "# Suponiendo que tienes la tabla relacion_actorT_promedio_ranking_peliculasmasque2\n",
    "# relacion_actorT_promedio_ranking_peliculasmasque2 es el DataFrame que contiene las columnas name_z, rating y cantidad_peliculas\n",
    "\n",
    "# Graficar el diagrama de dispersión\n",
    "plt.figure(figsize=(10, 6))\n",
    "plt.scatter(relacion_actorT_promedio_ranking_peliculasmasque2['cantidad_peliculas'], relacion_actorT_promedio_ranking_peliculasmasque2['rating'], alpha=0.5)\n",
    "plt.title('Diagrama de Dispersión: Cantidad de Películas >= 2')\n",
    "plt.xlabel('Cantidad de Películas en las que Aparece Cada Actor')\n",
    "plt.ylabel('Rating Promedio')\n",
    "plt.grid(True)\n",
    "plt.show()"
   ]
  }
 ],
 "metadata": {
  "kernelspec": {
   "display_name": "Python 3",
   "language": "python",
   "name": "python3"
  },
  "language_info": {
   "codemirror_mode": {
    "name": "ipython",
    "version": 3
   },
   "file_extension": ".py",
   "mimetype": "text/x-python",
   "name": "python",
   "nbconvert_exporter": "python",
   "pygments_lexer": "ipython3",
   "version": "3.11.8"
  }
 },
 "nbformat": 4,
 "nbformat_minor": 2
}
