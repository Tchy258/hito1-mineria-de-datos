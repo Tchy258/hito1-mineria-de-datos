{
 "cells": [
  {
   "cell_type": "markdown",
   "id": "780b86d5-0a19-49d1-a9a4-6fd1cdc28339",
   "metadata": {},
   "source": [
    "# Rating promedio por temática"
   ]
  },
  {
   "cell_type": "code",
   "execution_count": null,
   "id": "9c3a6542-43b0-4f54-a9b6-56b3319e4945",
   "metadata": {},
   "outputs": [],
   "source": [
    "\n",
    "import pandas as pd\n",
    "import matplotlib.pyplot as plt"
   ]
  },
  {
   "cell_type": "code",
   "execution_count": null,
   "id": "4aab2663-d6fe-4c78-b0da-ea3aee8460d0",
   "metadata": {},
   "outputs": [],
   "source": [
    "movies = pd.read_csv('movies.csv', encoding = \"UTF-8\")\n",
    "genres = pd.read_csv('genres.csv', encoding = \"UTF-8\")\n",
    "\n",
    "#Merge de ambos dataframes juntando por id\n",
    "merged = pd.merge(movies,genres, on =\"id\" , how = \"inner\")\n",
    "filtered_merged = merged.dropna(subset=['rating'])\n",
    "#filtered_merged"
   ]
  },
  {
   "cell_type": "markdown",
   "id": "4fb13a3e-f462-40a7-893f-e1d0dc505eac",
   "metadata": {},
   "source": [
    "# Género más popular por década"
   ]
  },
  {
   "cell_type": "code",
   "execution_count": null,
   "id": "631d03cf-db0e-4574-8960-d608359c0bf6",
   "metadata": {},
   "outputs": [],
   "source": [
    "#Idea: mostrar la temática más popular a través de las decadas\n",
    "#Agrupamos por década y simplificamos el gráfico\n",
    "merged['decade'] = (merged['date']//10)*10\n",
    "simplified_merged = merged[['decade','genre','rating']]\n",
    "filtered_simplified_merged = simplified_merged.dropna(subset = ['rating'])\n",
    "#print(filtered_simplified_merged)"
   ]
  },
  {
   "cell_type": "code",
   "execution_count": null,
   "id": "92dd43c9-d022-4a2c-8b0e-066e653eadc1",
   "metadata": {},
   "outputs": [],
   "source": [
    "genre_count_by_decade = filtered_simplified_merged.groupby(['decade','genre']).size().reset_index(name='count')\n",
    "#idxmax no la conocía, agarra el máximo de count (el género con más ocurrencia) y lo entrega con indice\n",
    "most_popular_decade = genre_count_by_decade.loc[genre_count_by_decade.groupby('decade')['count'].idxmax()]\n",
    "print(most_popular_decade)"
   ]
  }
 ],
 "metadata": {
  "kernelspec": {
   "display_name": "Python 3 (ipykernel)",
   "language": "python",
   "name": "python3"
  },
  "language_info": {
   "codemirror_mode": {
    "name": "ipython",
    "version": 3
   },
   "file_extension": ".py",
   "mimetype": "text/x-python",
   "name": "python",
   "nbconvert_exporter": "python",
   "pygments_lexer": "ipython3",
   "version": "3.11.8"
  }
 },
 "nbformat": 4,
 "nbformat_minor": 5
}
