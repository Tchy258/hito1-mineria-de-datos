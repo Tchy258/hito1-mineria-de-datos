{
 "cells": [
  {
   "cell_type": "code",
   "execution_count": 1,
   "metadata": {},
   "outputs": [],
   "source": [
    "import pandas as pd\n",
    "import matplotlib.pyplot as plt"
   ]
  },
  {
   "cell_type": "code",
   "execution_count": 4,
   "metadata": {},
   "outputs": [],
   "source": [
    "movies = pd.read_csv('..\\data\\movies.csv')\n",
    "countries = pd.read_csv('..\\data\\countries.csv')\n",
    "genres = pd.read_csv('..\\data\\genres.csv')"
   ]
  },
  {
   "cell_type": "markdown",
   "metadata": {},
   "source": [
    "### Exploración datos"
   ]
  },
  {
   "cell_type": "markdown",
   "metadata": {},
   "source": [
    "#### movies"
   ]
  },
  {
   "cell_type": "code",
   "execution_count": 27,
   "metadata": {},
   "outputs": [
    {
     "name": "stdout",
     "output_type": "stream",
     "text": [
      "¿Hay valores NA en la columna country? True\n",
      "Número de valores NA en la columna country: 810786\n",
      "Ejemplo de fila con valor NA en 'rating':\n",
      "           id                                 name    date  \\\n",
      "1923  1001924                       Dune: Part Two  2024.0   \n",
      "2741  1002742                            Nosferatu  2024.0   \n",
      "3296  1003297                             MaXXXine     NaN   \n",
      "3672  1003673  Spider-Man: Beyond the Spider-Verse     NaN   \n",
      "3838  1003839                            Mickey 17     NaN   \n",
      "\n",
      "                        tagline  \\\n",
      "1923    Long live the fighters.   \n",
      "2741                        NaN   \n",
      "3296  Hollywood Here She Comes!   \n",
      "3672                        NaN   \n",
      "3838                        NaN   \n",
      "\n",
      "                                            description  minute  rating  \n",
      "1923  Follow the mythic journey of Paul Atreides as ...   166.0     NaN  \n",
      "2741  A gothic tale of obsession between a haunted y...     NaN     NaN  \n",
      "3296  Six years after the 'Texas Pornhouse Massacre'...     NaN     NaN  \n",
      "3672  Taking place right after the events of Spider-...     NaN     NaN  \n",
      "3838  Mickey 17 is an \"expendable\", a disposable emp...   139.0     NaN  \n"
     ]
    }
   ],
   "source": [
    "\"\"\" Revisar si hay NA en movies - rating\"\"\"\n",
    "\n",
    "\n",
    "# Verificar si hay valores NA en la columna 'country'\n",
    "hay_na_country = movies['rating'].isna().any()\n",
    "na_country_count = movies['rating'].isna().sum()\n",
    "\n",
    "print(f'¿Hay valores NA en la columna country? {hay_na_country}')\n",
    "print(f'Número de valores NA en la columna country: {na_country_count}')\n",
    "\n",
    "# Encontrar una fila con un valor NA en la columna 'country'\n",
    "fila_con_na = movies[movies['rating'].isna()].head()\n",
    "\n",
    "print(\"Ejemplo de fila con valor NA en 'rating':\")\n",
    "print(fila_con_na)"
   ]
  },
  {
   "cell_type": "code",
   "execution_count": 30,
   "metadata": {},
   "outputs": [
    {
     "name": "stdout",
     "output_type": "stream",
     "text": [
      "¿Hay valores NA en la columna country? True\n",
      "Número de valores NA en la columna country: 187050\n",
      "Ejemplo de fila con valor NA en 'minute':\n",
      "           id                                 name    date  \\\n",
      "2741  1002742                            Nosferatu  2024.0   \n",
      "3296  1003297                             MaXXXine     NaN   \n",
      "3672  1003673  Spider-Man: Beyond the Spider-Verse     NaN   \n",
      "4165  1004166                           Deadpool 3  2024.0   \n",
      "4325  1004326                  Joker: Folie à Deux  2024.0   \n",
      "\n",
      "                        tagline  \\\n",
      "2741                        NaN   \n",
      "3296  Hollywood Here She Comes!   \n",
      "3672                        NaN   \n",
      "4165                        NaN   \n",
      "4325                        NaN   \n",
      "\n",
      "                                            description  minute  rating  \n",
      "2741  A gothic tale of obsession between a haunted y...     NaN     NaN  \n",
      "3296  Six years after the 'Texas Pornhouse Massacre'...     NaN     NaN  \n",
      "3672  Taking place right after the events of Spider-...     NaN     NaN  \n",
      "4165  Third entry in the \"Deadpool\" franchise. Plot ...     NaN     NaN  \n",
      "4325                   A sequel to the 2019 film Joker.     NaN     NaN  \n"
     ]
    }
   ],
   "source": [
    "\"\"\" Revisar si hay NA en movies - minute\"\"\"\n",
    "\n",
    "\n",
    "# Verificar si hay valores NA en la columna 'country'\n",
    "hay_na_country = movies['minute'].isna().any()\n",
    "na_country_count = movies['minute'].isna().sum()\n",
    "\n",
    "print(f'¿Hay valores NA en la columna country? {hay_na_country}')\n",
    "print(f'Número de valores NA en la columna country: {na_country_count}')\n",
    "\n",
    "# Encontrar una fila con un valor NA en la columna 'country'\n",
    "fila_con_na = movies[movies['minute'].isna()].head()\n",
    "\n",
    "print(\"Ejemplo de fila con valor NA en 'minute':\")\n",
    "print(fila_con_na)"
   ]
  },
  {
   "cell_type": "markdown",
   "metadata": {},
   "source": [
    "#### countries\n"
   ]
  },
  {
   "cell_type": "code",
   "execution_count": 13,
   "metadata": {},
   "outputs": [
    {
     "name": "stdout",
     "output_type": "stream",
     "text": [
      "¿Hay valores NA en la columna country? True\n",
      "Número de valores NA en la columna country: 342600\n",
      "Ejemplo de fila con valor NA en 'country':\n",
      "           id                                        name    date  \\\n",
      "2359  1001584                 Black Mirror: Joan Is Awful  2023.0   \n",
      "2882  1001937  Euphoria: F*ck Anyone Who’s Not a Sea Blob  2021.0   \n",
      "2959  1001987                    Black Mirror: Loch Henry  2023.0   \n",
      "\n",
      "                  tagline                                        description  \\\n",
      "2359  Season 6, Episode 1  An average woman is stunned to discover a glob...   \n",
      "2882        Part 2: Jules  Over the Christmas holiday, Jules reflects on ...   \n",
      "2959  Season 6, Episode 2  A young couple travel to a sleepy Scottish tow...   \n",
      "\n",
      "      minute  rating country  \n",
      "2359    56.0    3.12     NaN  \n",
      "2882    48.0    4.22     NaN  \n",
      "2959    60.0    3.49     NaN  \n"
     ]
    }
   ],
   "source": [
    "\"\"\" Revisar si hay NA en movies - genres \"\"\"\n",
    "\n",
    "# Combinar las bases de datos 'movies' con 'countries' en base al 'id' de la película\n",
    "movies_countries = pd.merge(movies, countries, on='id', how='left')\n",
    "\n",
    "# Verificar si hay valores NA en la columna 'country'\n",
    "hay_na_country = movies_countries['country'].isna().any()\n",
    "na_country_count = movies_countries['country'].isna().sum()\n",
    "\n",
    "print(f'¿Hay valores NA en la columna country? {hay_na_country}')\n",
    "print(f'Número de valores NA en la columna country: {na_country_count}')\n",
    "\n",
    "# Encontrar una fila con un valor NA en la columna 'country'\n",
    "fila_con_na = movies_countries[movies_countries['country'].isna()].head(3)\n",
    "\n",
    "print(\"Ejemplo de fila con valor NA en 'country':\")\n",
    "print(fila_con_na)"
   ]
  },
  {
   "cell_type": "code",
   "execution_count": 15,
   "metadata": {},
   "outputs": [
    {
     "name": "stdout",
     "output_type": "stream",
     "text": [
      "No se encontró ninguna fila con la id 1001987 en la base de datos 'countries'.\n"
     ]
    }
   ],
   "source": [
    "# Supongamos que 'id_busqueda' es la id que quieres buscar en la base de datos 'countries'\n",
    "id_busqueda = 1001987\n",
    "\n",
    "# Buscar el país correspondiente a la 'id_busqueda'\n",
    "fila_correspondiente = countries[countries['id'] == id_busqueda]\n",
    "\n",
    "if not fila_correspondiente.empty:\n",
    "    pais_correspondiente = fila_correspondiente['country'].iloc[0]\n",
    "    print(f\"El país correspondiente a la id {id_busqueda} es: {pais_correspondiente}\")\n",
    "else:\n",
    "    print(f\"No se encontró ninguna fila con la id {id_busqueda} en la base de datos 'countries'.\")"
   ]
  },
  {
   "cell_type": "markdown",
   "metadata": {},
   "source": [
    "#### genres"
   ]
  },
  {
   "cell_type": "code",
   "execution_count": 17,
   "metadata": {},
   "outputs": [
    {
     "name": "stdout",
     "output_type": "stream",
     "text": [
      "¿Hay valores NA en la columna genre? True\n",
      "Número de valores NA en la columna genre: 257756\n",
      "Ejemplos de filas con valor NA en 'genre':\n",
      "            id                   name    date  \\\n",
      "3848   1001437         Obi-Wan Kenobi  2022.0   \n",
      "13042  1005093                 Ahsoka  2023.0   \n",
      "13721  1005373  The Book of Boba Fett  2021.0   \n",
      "\n",
      "                                           tagline  \\\n",
      "3848   Between darkness and defeat, hope survives.   \n",
      "13042               Warrior. Outcast. Rebel. Jedi.   \n",
      "13721              Every galaxy has an underworld.   \n",
      "\n",
      "                                             description  minute  rating genre  \n",
      "3848   During the reign of the Galactic Empire, forme...   280.0    3.12   NaN  \n",
      "13042  Former Jedi Knight Ahsoka Tano investigates an...   368.0    3.45   NaN  \n",
      "13721  Legendary bounty hunter Boba Fett and mercenar...   348.0    2.59   NaN  \n"
     ]
    }
   ],
   "source": [
    "# Combinar las bases de datos 'movies' con 'genres' en base al 'id' de la película\n",
    "movies_genres = pd.merge(movies, genres, on='id', how='left')\n",
    "\n",
    "# Verificar si hay valores NA en la columna 'genre'\n",
    "hay_na_genre = movies_genres['genre'].isna().any()\n",
    "na_genre_count = movies_genres['genre'].isna().sum()\n",
    "\n",
    "print(f'¿Hay valores NA en la columna genre? {hay_na_genre}')\n",
    "print(f'Número de valores NA en la columna genre: {na_genre_count}')\n",
    "\n",
    "# Encontrar filas con valores NA en la columna 'genre' (mostramos los primeros 3 ejemplos)\n",
    "filas_con_na_genre = movies_genres[movies_genres['genre'].isna()].head(3)\n",
    "\n",
    "print(\"Ejemplos de filas con valor NA en 'genre':\")\n",
    "print(filas_con_na_genre)"
   ]
  },
  {
   "cell_type": "code",
   "execution_count": 20,
   "metadata": {},
   "outputs": [
    {
     "name": "stdout",
     "output_type": "stream",
     "text": [
      "El género correspondiente a la id 1005374 es: Drama\n"
     ]
    }
   ],
   "source": [
    "# Supongamos que 'id_busqueda' es la id que quieres buscar en la base de datos 'genres'\n",
    "id_busqueda = 1005374\n",
    "\n",
    "# Buscar el género correspondiente a la 'id_busqueda'\n",
    "fila_correspondiente = genres[genres['id'] == id_busqueda]\n",
    "\n",
    "if not fila_correspondiente.empty:\n",
    "    genero_correspondiente = fila_correspondiente['genre'].iloc[0]\n",
    "    print(f\"El género correspondiente a la id {id_busqueda} es: {genero_correspondiente}\")\n",
    "else:\n",
    "    print(f\"No se encontró ninguna fila con la id {id_busqueda} en la base de datos 'genres'.\")"
   ]
  },
  {
   "cell_type": "markdown",
   "metadata": {},
   "source": [
    "### Juntar las bd"
   ]
  },
  {
   "cell_type": "code",
   "execution_count": 31,
   "metadata": {},
   "outputs": [
    {
     "name": "stdout",
     "output_type": "stream",
     "text": [
      "        id                               name    date  \\\n",
      "0  1000001                             Barbie  2023.0   \n",
      "1  1000002                           Parasite  2019.0   \n",
      "2  1000003  Everything Everywhere All at Once  2022.0   \n",
      "3  1000004                         Fight Club  1999.0   \n",
      "4  1000005                       Interstellar  2014.0   \n",
      "\n",
      "                                             tagline  \\\n",
      "0                   She's everything. He's just Ken.   \n",
      "1                        Act like you own the place.   \n",
      "2   The universe is so much bigger than you realize.   \n",
      "3                            Mischief. Mayhem. Soap.   \n",
      "4  Mankind was born on Earth. It was never meant ...   \n",
      "\n",
      "                                         description  minute  rating  \\\n",
      "0  Barbie and Ken are having the time of their li...   114.0    3.91   \n",
      "1  All unemployed, Ki-taek's family takes peculia...   133.0    4.57   \n",
      "2  An aging Chinese immigrant is swept up in an i...   140.0    4.32   \n",
      "3  A ticking-time-bomb insomniac and a slippery s...   139.0    4.27   \n",
      "4  The adventures of a group of explorers who mak...   169.0    4.32   \n",
      "\n",
      "          country                                 genre  \n",
      "0       [UK, USA]          [Comedy, Fantasy, Adventure]  \n",
      "1   [South Korea]             [Comedy, Thriller, Drama]  \n",
      "2           [USA]  [Science Fiction, Action, Adventure]  \n",
      "3  [Germany, USA]                               [Drama]  \n",
      "4       [UK, USA]   [Science Fiction, Drama, Adventure]  \n"
     ]
    }
   ],
   "source": [
    "\"\"\" Juntar  las bd \"\"\"\n",
    "\n",
    "movies_clear = movies.dropna(subset=['rating','minute'])\n",
    "\n",
    "# Agrupar los países por 'id', creando listas de países para cada 'id'\n",
    "countries_grouped = countries.groupby('id')['country'].apply(list).reset_index()\n",
    "\n",
    "# Agrupar los géneros por 'id', creando listas de géneros para cada 'id'\n",
    "genres_grouped = genres.groupby('id')['genre'].apply(list).reset_index()\n",
    "\n",
    "# Combinar las bases de datos\n",
    "# Primero combinamos 'movies' con 'countries_grouped' en base al 'id' de la película\n",
    "movies_countries = pd.merge(movies_clear, countries_grouped, on='id', how='left')\n",
    "\n",
    "# Luego combinamos el resultado anterior con 'genres_grouped' en base al 'id' de la película\n",
    "movies_countries_genres = pd.merge(movies_countries, genres_grouped, on='id', how='left')\n",
    "movies_countries_genres = movies_countries_genres.dropna(subset=['country', 'genre'])\n",
    "\n",
    "# Visualizar la base de datos final\n",
    "print(movies_countries_genres.head())"
   ]
  },
  {
   "cell_type": "code",
   "execution_count": 32,
   "metadata": {},
   "outputs": [
    {
     "name": "stdout",
     "output_type": "stream",
     "text": [
      "Número de películas: 80339\n"
     ]
    }
   ],
   "source": [
    "num_peliculas = len(movies_countries_genres)\n",
    "print(f'Número de películas: {num_peliculas}')\n",
    "#Número de películas: 896400 (sin limpiar)\n",
    "#Número de películas: 489968 (limpiado genre y country)\n",
    "#Número de películas: 80762 (Limpiado genre - country - rating)\n",
    "#Número de películas: 80339 (Limpiado genre - country - rating - minute)"
   ]
  }
 ],
 "metadata": {
  "kernelspec": {
   "display_name": "Python 3",
   "language": "python",
   "name": "python3"
  },
  "language_info": {
   "codemirror_mode": {
    "name": "ipython",
    "version": 3
   },
   "file_extension": ".py",
   "mimetype": "text/x-python",
   "name": "python",
   "nbconvert_exporter": "python",
   "pygments_lexer": "ipython3",
   "version": "3.11.9"
  }
 },
 "nbformat": 4,
 "nbformat_minor": 2
}
