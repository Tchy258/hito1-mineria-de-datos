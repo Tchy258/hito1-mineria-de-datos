{
 "cells": [
  {
   "cell_type": "code",
   "execution_count": null,
   "metadata": {},
   "outputs": [],
   "source": [
    "import pandas as pd\n",
    "import numpy as np\n",
    "import matplotlib.pyplot as plt\n",
    "\n",
    "movies_df = pd.read_csv('movies.csv')"
   ]
  },
  {
   "cell_type": "code",
   "execution_count": null,
   "metadata": {},
   "outputs": [],
   "source": [
    "# Crear una columna de las decadas\n",
    "movies_df['decades'] = (movies_df['date'] // 10) * 10\n",
    "# Agrupar por decadas and y calcular el promedio del rating\n",
    "average_rating_per_decade = movies_df.groupby('decades')['rating'].mean()"
   ]
  },
  {
   "cell_type": "code",
   "execution_count": null,
   "metadata": {},
   "outputs": [],
   "source": [
    "# Add labels and title\n",
    "plt.figure(figsize=(10, 6))\n",
    "# Crear gráfico de barras\n",
    "plt.bar(average_rating_per_decade.index, average_rating_per_decade.values, width=7, color='skyblue', edgecolor='black')\n",
    "\n",
    "# Set los labels de los ejes\n",
    "plt.xlabel('Decadas')\n",
    "plt.ylabel('Rating promedio')\n",
    "\n",
    "# Establecer título\n",
    "plt.title('Promedio de rating por decada')\n",
    "\n",
    "# Rotar etiquetas del eje x para mejor visualización\n",
    "plt.xticks(rotation=45, ha='right')\n",
    "\n",
    "# Mostrar el gráfico\n",
    "plt.show()"
   ]
  },
  {
   "cell_type": "markdown",
   "metadata": {},
   "source": [
    "Este gráfico nos ayuda a eliminar el sesgo de que las películas antiguas eran mejores, lo que era una pósible hipotesis, ya que, como se ve en las frecuencias, se podían hacer muchas menos películas en esa épooca, debido a los recursos necesarios para ello, por lo que se podría pensar que las películas realizadas debían tener cierto grado de calidad garantizada para hacer valer el costo. Se puede ver que la diferencia de ratings promedios entre el peak (1920) y la actualidad (2020) es de solamente 0.2, lo que considerando la gran cantidad de películas que se han hecho en la actualidad, es un valor muy bajo como para atribuirle una diferencia de calidad, desmintiendo así la hipotésis."
   ]
  }
 ],
 "metadata": {
  "kernelspec": {
   "display_name": "Python 3",
   "language": "python",
   "name": "python3"
  },
  "language_info": {
   "codemirror_mode": {
    "name": "ipython",
    "version": 3
   },
   "file_extension": ".py",
   "mimetype": "text/x-python",
   "name": "python",
   "nbconvert_exporter": "python",
   "pygments_lexer": "ipython3",
   "version": "3.11.2"
  }
 },
 "nbformat": 4,
 "nbformat_minor": 2
}
