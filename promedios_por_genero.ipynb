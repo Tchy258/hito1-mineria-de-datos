{
 "cells": [
  {
   "cell_type": "code",
   "execution_count": null,
   "metadata": {},
   "outputs": [],
   "source": [
    "import pandas as pd\n",
    "import numpy as np\n",
    "\n",
    "movies = pd.read_csv('movies.csv')\n",
    "genres = pd.read_csv('genres.csv')\n",
    "movies_with_genres = movies.merge(genres, on='id', how='inner')"
   ]
  },
  {
   "cell_type": "code",
   "execution_count": null,
   "metadata": {},
   "outputs": [],
   "source": [
    "movies_with_genres[['minute','rating']].describe()"
   ]
  },
  {
   "cell_type": "code",
   "execution_count": null,
   "metadata": {},
   "outputs": [],
   "source": [
    "genre_avg = movies_with_genres.groupby('genre')['rating'].mean()\n",
    "genre_avg.index.name = 'Generos'\n",
    "genre_avg = genre_avg.reset_index()"
   ]
  },
  {
   "cell_type": "code",
   "execution_count": null,
   "metadata": {},
   "outputs": [],
   "source": [
    "import matplotlib.pyplot as plt\n",
    "\n",
    "\n",
    "# Add labels and title\n",
    "plt.figure(figsize=(10, 6))\n",
    "plt.bar(genre_avg['Generos'], genre_avg['rating'], color='skyblue', edgecolor='black')\n",
    "\n",
    "plt.xlabel('Generos')\n",
    "plt.ylabel('Rating')\n",
    "plt.title('Relación entre promedios de películas según su genero')\n",
    "plt.xticks(rotation=90)\n",
    "# Show the plot\n",
    "plt.show()"
   ]
  },
  {
   "cell_type": "markdown",
   "metadata": {},
   "source": [
    "Del gráfico podemos concluír que en promedio no hay una relación directa entre el genero de una película y su rating "
   ]
  },
  {
   "cell_type": "code",
   "execution_count": null,
   "metadata": {},
   "outputs": [],
   "source": [
    "genre_median = movies_with_genres.groupby('genre')['rating'].median()\n",
    "genre_median.index.name = 'Generos'\n",
    "genre_median = genre_median.reset_index()"
   ]
  },
  {
   "cell_type": "code",
   "execution_count": null,
   "metadata": {},
   "outputs": [],
   "source": [
    "import matplotlib.pyplot as plt\n",
    "\n",
    "\n",
    "# Add labels and title\n",
    "plt.figure(figsize=(10, 6))\n",
    "plt.bar(genre_median['Generos'], genre_median['rating'], color='skyblue', edgecolor='black')\n",
    "\n",
    "plt.xlabel('Generos')\n",
    "plt.ylabel('Rating')\n",
    "plt.title('Relación entre medianas de películas según su genero')\n",
    "plt.xticks(rotation=90)\n",
    "# Show the plot\n",
    "plt.show()"
   ]
  }
 ],
 "metadata": {
  "kernelspec": {
   "display_name": "Python 3",
   "language": "python",
   "name": "python3"
  },
  "language_info": {
   "codemirror_mode": {
    "name": "ipython",
    "version": 3
   },
   "file_extension": ".py",
   "mimetype": "text/x-python",
   "name": "python",
   "nbconvert_exporter": "python",
   "pygments_lexer": "ipython3",
   "version": "3.11.8"
  }
 },
 "nbformat": 4,
 "nbformat_minor": 2
}
